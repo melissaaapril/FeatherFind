{
 "cells": [
  {
   "cell_type": "code",
   "execution_count": 5,
   "id": "d9c2b01c-9252-4b8a-9885-bb1f58c8c074",
   "metadata": {},
   "outputs": [],
   "source": [
    "import pandas as pd\n",
    "import numpy as np\n",
    "import matplotlib\n",
    "import sys\n",
    "# !pip install keras tensorflow -c conda-forge\n",
    "from tensorflow.keras.preprocessing.image import ImageDataGenerator"
   ]
  },
  {
   "cell_type": "code",
   "execution_count": null,
   "id": "433ab753-3069-4c9a-937d-d6b229adef54",
   "metadata": {},
   "outputs": [],
   "source": [
    "''' lets go ahead and analyze images from the dataset'''"
   ]
  },
  {
   "cell_type": "code",
   "execution_count": null,
   "id": "1d0470cd-197d-4ffa-940f-c845f65ff7cf",
   "metadata": {},
   "outputs": [],
   "source": []
  },
  {
   "cell_type": "code",
   "execution_count": null,
   "id": "38bb7700-4eb9-4495-b79f-3d628c58c552",
   "metadata": {},
   "outputs": [],
   "source": []
  }
 ],
 "metadata": {
  "kernelspec": {
   "display_name": "CNN Work",
   "language": "python",
   "name": "cnn_work"
  },
  "language_info": {
   "codemirror_mode": {
    "name": "ipython",
    "version": 3
   },
   "file_extension": ".py",
   "mimetype": "text/x-python",
   "name": "python",
   "nbconvert_exporter": "python",
   "pygments_lexer": "ipython3",
   "version": "3.11.9"
  }
 },
 "nbformat": 4,
 "nbformat_minor": 5
}
