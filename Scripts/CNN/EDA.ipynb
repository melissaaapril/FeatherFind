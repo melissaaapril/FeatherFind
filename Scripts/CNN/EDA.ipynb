{
 "cells": [
  {
   "cell_type": "code",
   "execution_count": 41,
   "id": "d9c2b01c-9252-4b8a-9885-bb1f58c8c074",
   "metadata": {},
   "outputs": [],
   "source": [
    "import pandas as pd\n",
    "import numpy as np\n",
    "import matplotlib as plt\n",
    "import sys\n",
    "import os\n",
    "from PIL import Image\n",
    "from glob import glob\n",
    "from tensorflow.keras.applications import EfficientNetB0\n",
    "import tensorflow as tf\n",
    "from tensorflow.keras.models import Model\n",
    "from tensorflow.keras.layers import Dense, GlobalAveragePooling2D"
   ]
  },
  {
   "cell_type": "code",
   "execution_count": 11,
   "id": "433ab753-3069-4c9a-937d-d6b229adef54",
   "metadata": {},
   "outputs": [],
   "source": [
    "# get data path\n",
    "base_path = '/Users/melissaaprilcastro/FeatherFind/Data/CUB_200_2011/images'"
   ]
  },
  {
   "cell_type": "code",
   "execution_count": 12,
   "id": "1d0470cd-197d-4ffa-940f-c845f65ff7cf",
   "metadata": {},
   "outputs": [
    {
     "name": "stdout",
     "output_type": "stream",
     "text": [
      "total images: 11788\n"
     ]
    }
   ],
   "source": [
    "''' lets get image paths from data \n",
    "recall that data is filed so that\n",
    ">DATA(file)\n",
    "  > Bird Species(file)\n",
    "    > image1...\n",
    "    ...\n",
    "    >imagek\n",
    "  > Bird Species 2\n",
    "    >image1\n",
    "    ...\n",
    "    >imagek\n",
    "...\n",
    "\n",
    "'''\n",
    "image_paths = glob(f'{base_path}/**/*.jpg', recursive=True)\n",
    "# print total images in data\n",
    "print(f'total images: {len(image_paths)}')"
   ]
  },
  {
   "cell_type": "code",
   "execution_count": 33,
   "id": "fa90ec28-5f0e-412e-abf4-151de370c17b",
   "metadata": {},
   "outputs": [
    {
     "name": "stdout",
     "output_type": "stream",
     "text": [
      "['005.Crested_Auklet', '015.Lazuli_Bunting', '156.White_eyed_Vireo', '081.Pied_Kingfisher', '135.Bank_Swallow', '200.Common_Yellowthroat', '086.Pacific_Loon', '067.Anna_Hummingbird', '076.Dark_eyed_Junco', '149.Brown_Thrasher', '127.Savannah_Sparrow', '041.Scissor_tailed_Flycatcher', '141.Artic_Tern', '082.Ringed_Kingfisher', '099.Ovenbird', '013.Bobolink', '104.American_Pipit', '023.Brandt_Cormorant', '168.Kentucky_Warbler', '072.Pomarine_Jaeger', '040.Olive_sided_Flycatcher', '185.Bohemian_Waxwing', '144.Common_Tern', '034.Gray_crowned_Rosy_Finch', '126.Nelson_Sharp_tailed_Sparrow', '163.Cape_May_Warbler', '043.Yellow_bellied_Flycatcher', '084.Red_legged_Kittiwake', '089.Hooded_Merganser', '116.Chipping_Sparrow', '029.American_Crow', '.DS_Store', '035.Purple_Finch', '026.Bronzed_Cowbird', '114.Black_throated_Sparrow', '188.Pileated_Woodpecker', '108.White_necked_Raven', '158.Bay_breasted_Warbler', '154.Red_eyed_Vireo', '047.American_Goldfinch', '162.Canada_Warbler', '102.Western_Wood_Pewee', '096.Hooded_Oriole', '189.Red_bellied_Woodpecker', '182.Yellow_Warbler', '195.Carolina_Wren', '010.Red_winged_Blackbird', '017.Cardinal', '059.California_Gull', '161.Blue_winged_Warbler', '004.Groove_billed_Ani', '190.Red_cockaded_Woodpecker', '121.Grasshopper_Sparrow', '080.Green_Kingfisher', '150.Sage_Thrasher', '167.Hooded_Warbler', '119.Field_Sparrow', '110.Geococcyx', '122.Harris_Sparrow', '103.Sayornis', '077.Tropical_Kingbird', '197.Marsh_Wren', '038.Great_Crested_Flycatcher', '006.Least_Auklet', '180.Wilson_Warbler', '146.Forsters_Tern', '031.Black_billed_Cuckoo', '045.Northern_Fulmar', '107.Common_Raven', '056.Pine_Grosbeak', '091.Mockingbird', '196.House_Wren', '079.Belted_Kingfisher', '052.Pied_billed_Grebe', '049.Boat_tailed_Grackle', '065.Slaty_backed_Gull', '140.Summer_Tanager', '130.Tree_Sparrow', '050.Eared_Grebe', '071.Long_tailed_Jaeger', '088.Western_Meadowlark', '021.Eastern_Towhee', '128.Seaside_Sparrow', '063.Ivory_Gull', '171.Myrtle_Warbler', '048.European_Goldfinch', '152.Blue_headed_Vireo', '186.Cedar_Waxwing', '094.White_breasted_Nuthatch', '166.Golden_winged_Warbler', '118.House_Sparrow', '173.Orange_crowned_Warbler', '177.Prothonotary_Warbler', '139.Scarlet_Tanager', '187.American_Three_toed_Woodpecker', '133.White_throated_Sparrow', '191.Red_headed_Woodpecker', '101.White_Pelican', '083.White_breasted_Kingfisher', '009.Brewer_Blackbird', '011.Rusty_Blackbird', '137.Cliff_Swallow', '192.Downy_Woodpecker', '157.Yellow_throated_Vireo', '115.Brewer_Sparrow', '027.Shiny_Cowbird', '100.Brown_Pelican', '134.Cape_Glossy_Starling', '117.Clay_colored_Sparrow', '025.Pelagic_Cormorant', '053.Western_Grebe', '002.Laysan_Albatross', '143.Caspian_Tern', '153.Philadelphia_Vireo', '014.Indigo_Bunting', '178.Swainson_Warbler', '169.Magnolia_Warbler', '092.Nighthawk', '109.American_Redstart', '098.Scott_Oriole', '159.Black_and_white_Warbler', '165.Chestnut_sided_Warbler', '148.Green_tailed_Towhee', '058.Pigeon_Guillemot', '155.Warbling_Vireo', '060.Glaucous_winged_Gull', '145.Elegant_Tern', '066.Western_Gull', '111.Loggerhead_Shrike', '075.Green_Jay', '164.Cerulean_Warbler', '093.Clark_Nutcracker', '057.Rose_breasted_Grosbeak', '069.Rufous_Hummingbird', '012.Yellow_headed_Blackbird', '062.Herring_Gull', '183.Northern_Waterthrush', '055.Evening_Grosbeak', '184.Louisiana_Waterthrush', '131.Vesper_Sparrow', '136.Barn_Swallow', '064.Ring_billed_Gull', '174.Palm_Warbler', '123.Henslow_Sparrow', '019.Gray_Catbird', '078.Gray_Kingbird', '016.Painted_Bunting', '106.Horned_Puffin', '120.Fox_Sparrow', '147.Least_Tern', '074.Florida_Jay', '070.Green_Violetear', '022.Chuck_will_Widow', '030.Fish_Crow', '176.Prairie_Warbler', '024.Red_faced_Cormorant', '129.Song_Sparrow', '042.Vermilion_Flycatcher', '090.Red_breasted_Merganser', '033.Yellow_billed_Cuckoo', '001.Black_footed_Albatross', '160.Black_throated_Blue_Warbler', '105.Whip_poor_Will', '179.Tennessee_Warbler', '036.Northern_Flicker', '008.Rhinoceros_Auklet', '097.Orchard_Oriole', '095.Baltimore_Oriole', '032.Mangrove_Cuckoo', '151.Black_capped_Vireo', '037.Acadian_Flycatcher', '044.Frigatebird', '193.Bewick_Wren', '125.Lincoln_Sparrow', '170.Mourning_Warbler', '172.Nashville_Warbler', '073.Blue_Jay', '138.Tree_Swallow', '132.White_crowned_Sparrow', '198.Rock_Wren', '124.Le_Conte_Sparrow', '199.Winter_Wren', '003.Sooty_Albatross', '085.Horned_Lark', '142.Black_Tern', '181.Worm_eating_Warbler', '068.Ruby_throated_Hummingbird', '112.Great_Grey_Shrike', '028.Brown_Creeper', '018.Spotted_Catbird', '087.Mallard', '051.Horned_Grebe', '007.Parakeet_Auklet', '039.Least_Flycatcher', '020.Yellow_breasted_Chat', '113.Baird_Sparrow', '194.Cactus_Wren', '061.Heermann_Gull', '175.Pine_Warbler', '046.Gadwall', '054.Blue_Grosbeak']\n"
     ]
    }
   ],
   "source": [
    "# print classes in the folder aka bird species or classifications\n",
    "print(os.listdir(base_path))\n",
    "\n",
    "path_directories = os.listdir(base_path)\n"
   ]
  },
  {
   "cell_type": "code",
   "execution_count": 28,
   "id": "6ce26476-bfb6-46af-943a-1fe6902f5623",
   "metadata": {},
   "outputs": [
    {
     "name": "stdout",
     "output_type": "stream",
     "text": [
      "number of folders aka bird species/classification categories not excluding hidden folders: 201\n",
      "number of folders (aka bird species) after making sure not to count hidden items: 200\n"
     ]
    }
   ],
   "source": [
    "# totoal folders or classification categories. there should be 200, but more may be counted if hidden items/folders are present\n",
    "print(f'number of folders aka bird species/classification categories not excluding hidden folders: {len(os.listdir(base_path))}')\n",
    "\n",
    "'''you can avoid counting hidden folder witjh code below but it is the same\n",
    "items = [item for item in os.listdir(base_path) if not item.startswith('.')]\n",
    "print(len(items))\n",
    "'''\n",
    "items = [item for item in os.listdir(base_path) if not item.startswith('.')]\n",
    "print(f'number of folders (aka bird species) after making sure not to count hidden items: {len(items)}')\n"
   ]
  },
  {
   "cell_type": "code",
   "execution_count": 52,
   "id": "64d3183b-d2d8-45fa-9ba0-ff4edf5ccecc",
   "metadata": {},
   "outputs": [
    {
     "data": {
      "text/html": [
       "<div>\n",
       "<style scoped>\n",
       "    .dataframe tbody tr th:only-of-type {\n",
       "        vertical-align: middle;\n",
       "    }\n",
       "\n",
       "    .dataframe tbody tr th {\n",
       "        vertical-align: top;\n",
       "    }\n",
       "\n",
       "    .dataframe thead th {\n",
       "        text-align: right;\n",
       "    }\n",
       "</style>\n",
       "<table border=\"1\" class=\"dataframe\">\n",
       "  <thead>\n",
       "    <tr style=\"text-align: right;\">\n",
       "      <th></th>\n",
       "      <th>label</th>\n",
       "      <th>image_path</th>\n",
       "    </tr>\n",
       "  </thead>\n",
       "  <tbody>\n",
       "    <tr>\n",
       "      <th>0</th>\n",
       "      <td>005.Crested_Auklet</td>\n",
       "      <td>/Users/melissaaprilcastro/FeatherFind/Data/CUB...</td>\n",
       "    </tr>\n",
       "    <tr>\n",
       "      <th>1</th>\n",
       "      <td>005.Crested_Auklet</td>\n",
       "      <td>/Users/melissaaprilcastro/FeatherFind/Data/CUB...</td>\n",
       "    </tr>\n",
       "    <tr>\n",
       "      <th>2</th>\n",
       "      <td>005.Crested_Auklet</td>\n",
       "      <td>/Users/melissaaprilcastro/FeatherFind/Data/CUB...</td>\n",
       "    </tr>\n",
       "    <tr>\n",
       "      <th>3</th>\n",
       "      <td>005.Crested_Auklet</td>\n",
       "      <td>/Users/melissaaprilcastro/FeatherFind/Data/CUB...</td>\n",
       "    </tr>\n",
       "    <tr>\n",
       "      <th>4</th>\n",
       "      <td>005.Crested_Auklet</td>\n",
       "      <td>/Users/melissaaprilcastro/FeatherFind/Data/CUB...</td>\n",
       "    </tr>\n",
       "    <tr>\n",
       "      <th>...</th>\n",
       "      <td>...</td>\n",
       "      <td>...</td>\n",
       "    </tr>\n",
       "    <tr>\n",
       "      <th>11783</th>\n",
       "      <td>054.Blue_Grosbeak</td>\n",
       "      <td>/Users/melissaaprilcastro/FeatherFind/Data/CUB...</td>\n",
       "    </tr>\n",
       "    <tr>\n",
       "      <th>11784</th>\n",
       "      <td>054.Blue_Grosbeak</td>\n",
       "      <td>/Users/melissaaprilcastro/FeatherFind/Data/CUB...</td>\n",
       "    </tr>\n",
       "    <tr>\n",
       "      <th>11785</th>\n",
       "      <td>054.Blue_Grosbeak</td>\n",
       "      <td>/Users/melissaaprilcastro/FeatherFind/Data/CUB...</td>\n",
       "    </tr>\n",
       "    <tr>\n",
       "      <th>11786</th>\n",
       "      <td>054.Blue_Grosbeak</td>\n",
       "      <td>/Users/melissaaprilcastro/FeatherFind/Data/CUB...</td>\n",
       "    </tr>\n",
       "    <tr>\n",
       "      <th>11787</th>\n",
       "      <td>054.Blue_Grosbeak</td>\n",
       "      <td>/Users/melissaaprilcastro/FeatherFind/Data/CUB...</td>\n",
       "    </tr>\n",
       "  </tbody>\n",
       "</table>\n",
       "<p>11788 rows × 2 columns</p>\n",
       "</div>"
      ],
      "text/plain": [
       "                    label                                         image_path\n",
       "0      005.Crested_Auklet  /Users/melissaaprilcastro/FeatherFind/Data/CUB...\n",
       "1      005.Crested_Auklet  /Users/melissaaprilcastro/FeatherFind/Data/CUB...\n",
       "2      005.Crested_Auklet  /Users/melissaaprilcastro/FeatherFind/Data/CUB...\n",
       "3      005.Crested_Auklet  /Users/melissaaprilcastro/FeatherFind/Data/CUB...\n",
       "4      005.Crested_Auklet  /Users/melissaaprilcastro/FeatherFind/Data/CUB...\n",
       "...                   ...                                                ...\n",
       "11783   054.Blue_Grosbeak  /Users/melissaaprilcastro/FeatherFind/Data/CUB...\n",
       "11784   054.Blue_Grosbeak  /Users/melissaaprilcastro/FeatherFind/Data/CUB...\n",
       "11785   054.Blue_Grosbeak  /Users/melissaaprilcastro/FeatherFind/Data/CUB...\n",
       "11786   054.Blue_Grosbeak  /Users/melissaaprilcastro/FeatherFind/Data/CUB...\n",
       "11787   054.Blue_Grosbeak  /Users/melissaaprilcastro/FeatherFind/Data/CUB...\n",
       "\n",
       "[11788 rows x 2 columns]"
      ]
     },
     "execution_count": 52,
     "metadata": {},
     "output_type": "execute_result"
    }
   ],
   "source": [
    "'''here we will make a dataframe and get each image path and include it as well as the label or bird classification'''\n",
    "# this empty list will store labels and image paths\n",
    "data = []\n",
    "\n",
    "# loop through each category folder in base directory\n",
    "for label in os.listdir(base_path):\n",
    "    label_path = os.path.join(base_path, label)\n",
    "    \n",
    "    # check if it's a directory (skip if it's a file or hidden folder)\n",
    "    if os.path.isdir(label_path):\n",
    "        # loop through each img file in the category folder\n",
    "        for image_file in os.listdir(label_path):\n",
    "            # create the full path to the image\n",
    "            image_path = os.path.join(label_path, image_file)\n",
    "            \n",
    "            # then add image path and label to the data list\n",
    "            data.append((label, image_path))  # Keep the order: label first, then image path\n",
    "\n",
    "# make dataframe with the right data\n",
    "df = pd.DataFrame(data, columns=['label', 'image_path'])\n",
    "df"
   ]
  },
  {
   "cell_type": "code",
   "execution_count": 63,
   "id": "7f5e6827-393a-44ee-b9b6-d37fb079f72f",
   "metadata": {},
   "outputs": [
    {
     "name": "stdout",
     "output_type": "stream",
     "text": [
      "41\n",
      "\n",
      "label\n",
      "137.Cliff_Swallow        60\n",
      "128.Seaside_Sparrow      60\n",
      "143.Caspian_Tern         60\n",
      "014.Indigo_Bunting       60\n",
      "092.Nighthawk            60\n",
      "                         ..\n",
      "105.Whip_poor_Will       49\n",
      "008.Rhinoceros_Auklet    48\n",
      "018.Spotted_Catbird      45\n",
      "005.Crested_Auklet       44\n",
      "006.Least_Auklet         41\n",
      "Name: count, Length: 200, dtype: int64\n"
     ]
    }
   ],
   "source": [
    "# lets cheeck the minimum number of iimages for one species as we need to amke sure the disparity isnt too large to have a balanced data ser\n",
    "print(f'{df['label'].value_counts().min()}\\n')\n",
    "# lets check the number of img for each label\n",
    "print(f'{df['label'].value_counts()}')"
   ]
  },
  {
   "cell_type": "code",
   "execution_count": 13,
   "id": "38bb7700-4eb9-4495-b79f-3d628c58c552",
   "metadata": {},
   "outputs": [
    {
     "name": "stdout",
     "output_type": "stream",
     "text": [
      "Downloading data from https://storage.googleapis.com/keras-applications/efficientnetb0_notop.h5\n",
      "\u001b[1m16705208/16705208\u001b[0m \u001b[32m━━━━━━━━━━━━━━━━━━━━\u001b[0m\u001b[37m\u001b[0m \u001b[1m1s\u001b[0m 0us/step\n"
     ]
    }
   ],
   "source": [
    "''' using efficientNet to fine tune for bird classification\n",
    "\n",
    "This model takes input images of shape (224, 224, 3), and the input data should be in the range [0, 255]. \n",
    "\n",
    "Normalization is included as part of the model.\n",
    "\n",
    "libraries :\n",
    "import tensorflow as tf\n",
    "from tensorflow.keras.applications import EfficientNetB0\n",
    "from tensorflow.keras.models import Model\n",
    "from tensorflow.keras.layers import Dense, GlobalAveragePooling2D\n",
    "'''\n",
    "\n",
    "'''from my understanding, include_top = False is usually for fine tunning the efficientNet model'''\n",
    "\n",
    "base_model = EfficientNetB0(weights='imagenet', include_top = False)"
   ]
  },
  {
   "cell_type": "code",
   "execution_count": 34,
   "id": "57a25925-eaf1-44d0-9370-3bc4a2eefb55",
   "metadata": {},
   "outputs": [
    {
     "ename": "ValueError",
     "evalue": "DataFrame constructor not properly called!",
     "output_type": "error",
     "traceback": [
      "\u001b[0;31m---------------------------------------------------------------------------\u001b[0m",
      "\u001b[0;31mValueError\u001b[0m                                Traceback (most recent call last)",
      "\u001b[0;32m/var/folders/fx/f5yn55t95g525_x_39gs99_40000gn/T/ipykernel_5489/1092431144.py\u001b[0m in \u001b[0;36m?\u001b[0;34m()\u001b[0m\n\u001b[1;32m      1\u001b[0m \u001b[0;31m# lets make the data into a dataframe for easy visual\u001b[0m\u001b[0;34m\u001b[0m\u001b[0;34m\u001b[0m\u001b[0m\n\u001b[0;32m----> 2\u001b[0;31m \u001b[0mdata\u001b[0m \u001b[0;34m=\u001b[0m \u001b[0mpd\u001b[0m\u001b[0;34m.\u001b[0m\u001b[0mDataFrame\u001b[0m\u001b[0;34m(\u001b[0m\u001b[0mbase_path\u001b[0m\u001b[0;34m)\u001b[0m\u001b[0;34m\u001b[0m\u001b[0;34m\u001b[0m\u001b[0m\n\u001b[0m",
      "\u001b[0;32m/opt/anaconda3/lib/python3.12/site-packages/pandas/core/frame.py\u001b[0m in \u001b[0;36m?\u001b[0;34m(self, data, index, columns, dtype, copy)\u001b[0m\n\u001b[1;32m    882\u001b[0m                 \u001b[0;34m)\u001b[0m\u001b[0;34m\u001b[0m\u001b[0;34m\u001b[0m\u001b[0m\n\u001b[1;32m    883\u001b[0m         \u001b[0;31m# For data is scalar\u001b[0m\u001b[0;34m\u001b[0m\u001b[0;34m\u001b[0m\u001b[0m\n\u001b[1;32m    884\u001b[0m         \u001b[0;32melse\u001b[0m\u001b[0;34m:\u001b[0m\u001b[0;34m\u001b[0m\u001b[0;34m\u001b[0m\u001b[0m\n\u001b[1;32m    885\u001b[0m             \u001b[0;32mif\u001b[0m \u001b[0mindex\u001b[0m \u001b[0;32mis\u001b[0m \u001b[0;32mNone\u001b[0m \u001b[0;32mor\u001b[0m \u001b[0mcolumns\u001b[0m \u001b[0;32mis\u001b[0m \u001b[0;32mNone\u001b[0m\u001b[0;34m:\u001b[0m\u001b[0;34m\u001b[0m\u001b[0;34m\u001b[0m\u001b[0m\n\u001b[0;32m--> 886\u001b[0;31m                 \u001b[0;32mraise\u001b[0m \u001b[0mValueError\u001b[0m\u001b[0;34m(\u001b[0m\u001b[0;34m\"DataFrame constructor not properly called!\"\u001b[0m\u001b[0;34m)\u001b[0m\u001b[0;34m\u001b[0m\u001b[0;34m\u001b[0m\u001b[0m\n\u001b[0m\u001b[1;32m    887\u001b[0m \u001b[0;34m\u001b[0m\u001b[0m\n\u001b[1;32m    888\u001b[0m             \u001b[0mindex\u001b[0m \u001b[0;34m=\u001b[0m \u001b[0mensure_index\u001b[0m\u001b[0;34m(\u001b[0m\u001b[0mindex\u001b[0m\u001b[0;34m)\u001b[0m\u001b[0;34m\u001b[0m\u001b[0;34m\u001b[0m\u001b[0m\n\u001b[1;32m    889\u001b[0m             \u001b[0mcolumns\u001b[0m \u001b[0;34m=\u001b[0m \u001b[0mensure_index\u001b[0m\u001b[0;34m(\u001b[0m\u001b[0mcolumns\u001b[0m\u001b[0;34m)\u001b[0m\u001b[0;34m\u001b[0m\u001b[0;34m\u001b[0m\u001b[0m\n",
      "\u001b[0;31mValueError\u001b[0m: DataFrame constructor not properly called!"
     ]
    }
   ],
   "source": [
    "# lets make the data into a dataframe for easy visual\n",
    "data = pd.DataFrame(base_path)"
   ]
  },
  {
   "cell_type": "code",
   "execution_count": null,
   "id": "45b4dbbb-e901-487a-9067-1d1c2a5cae14",
   "metadata": {},
   "outputs": [],
   "source": []
  }
 ],
 "metadata": {
  "kernelspec": {
   "display_name": "Python 3 (ipykernel)",
   "language": "python",
   "name": "python3"
  },
  "language_info": {
   "codemirror_mode": {
    "name": "ipython",
    "version": 3
   },
   "file_extension": ".py",
   "mimetype": "text/x-python",
   "name": "python",
   "nbconvert_exporter": "python",
   "pygments_lexer": "ipython3",
   "version": "3.12.4"
  }
 },
 "nbformat": 4,
 "nbformat_minor": 5
}
