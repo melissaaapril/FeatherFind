{
 "cells": [
  {
   "cell_type": "code",
   "execution_count": 2,
   "id": "d9c2b01c-9252-4b8a-9885-bb1f58c8c074",
   "metadata": {},
   "outputs": [
    {
     "ename": "ModuleNotFoundError",
     "evalue": "No module named 'tensorflow'",
     "output_type": "error",
     "traceback": [
      "\u001b[0;31m---------------------------------------------------------------------------\u001b[0m",
      "\u001b[0;31mModuleNotFoundError\u001b[0m                       Traceback (most recent call last)",
      "Cell \u001b[0;32mIn[2], line 9\u001b[0m\n\u001b[1;32m      7\u001b[0m \u001b[38;5;28;01mfrom\u001b[39;00m \u001b[38;5;21;01mglob\u001b[39;00m \u001b[38;5;28;01mimport\u001b[39;00m glob\n\u001b[1;32m      8\u001b[0m \u001b[38;5;66;03m# !pip install keras tensorflow -c conda-forge\u001b[39;00m\n\u001b[0;32m----> 9\u001b[0m \u001b[38;5;28;01mimport\u001b[39;00m \u001b[38;5;21;01mtensorflow\u001b[39;00m\n\u001b[1;32m     10\u001b[0m \u001b[38;5;66;03m#from tensorflow.keras.preprocessing.image import ImageDataGenerator\u001b[39;00m\n",
      "\u001b[0;31mModuleNotFoundError\u001b[0m: No module named 'tensorflow'"
     ]
    }
   ],
   "source": [
    "import pandas as pd\n",
    "import numpy as np\n",
    "import matplotlib as plt\n",
    "import sys\n",
    "import os\n",
    "from PIL import Image\n",
    "from glob import glob\n",
    "# !pip install keras tensorflow -c conda-forge\n",
    "#from tensorflow.keras.preprocessing.image import ImageDataGenerator"
   ]
  },
  {
   "cell_type": "code",
   "execution_count": 5,
   "id": "433ab753-3069-4c9a-937d-d6b229adef54",
   "metadata": {},
   "outputs": [],
   "source": [
    "# get data path\n",
    "base_path = '/Users/melissaaprilcastro/Documents/FeatherFind/Data/images'"
   ]
  },
  {
   "cell_type": "code",
   "execution_count": 6,
   "id": "1d0470cd-197d-4ffa-940f-c845f65ff7cf",
   "metadata": {},
   "outputs": [
    {
     "name": "stdout",
     "output_type": "stream",
     "text": [
      "total images: 0\n"
     ]
    }
   ],
   "source": [
    "''' lets get image paths from data \n",
    "recall that data is filed so that\n",
    ">DATA(file)\n",
    "  > Bird Species(file)\n",
    "    > image1...\n",
    "    ...\n",
    "    >imagek\n",
    "  > Bird Species 2\n",
    "    >image1\n",
    "    ...\n",
    "    >imagek\n",
    "...\n",
    "\n",
    "'''\n",
    "image_paths = glob(os.path.join(base_path, '*/*'))\n",
    "# print total images in data\n",
    "print(f'total images: {len(image_paths)}')"
   ]
  },
  {
   "cell_type": "code",
   "execution_count": null,
   "id": "38bb7700-4eb9-4495-b79f-3d628c58c552",
   "metadata": {},
   "outputs": [],
   "source": []
  }
 ],
 "metadata": {
  "kernelspec": {
   "display_name": "Python 3 (ipykernel)",
   "language": "python",
   "name": "python3"
  },
  "language_info": {
   "codemirror_mode": {
    "name": "ipython",
    "version": 3
   },
   "file_extension": ".py",
   "mimetype": "text/x-python",
   "name": "python",
   "nbconvert_exporter": "python",
   "pygments_lexer": "ipython3",
   "version": "3.11.6"
  }
 },
 "nbformat": 4,
 "nbformat_minor": 5
}
